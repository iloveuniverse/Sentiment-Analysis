{
 "cells": [
  {
   "cell_type": "code",
   "execution_count": 34,
   "id": "3f49effc",
   "metadata": {},
   "outputs": [],
   "source": [
    "import pandas as pd\n",
    "import numpy as np\n",
    "from nltk.stem import WordNetLemmatizer\n",
    "import nltk\n",
    "from nltk.corpus import stopwords \n",
    "from nltk.tokenize import word_tokenize \n",
    "import re\n",
    "import spacy\n",
    "from nltk.corpus import sentiwordnet as swn\n",
    "from IPython.display import clear_output\n",
    "import plotly.express as px\n",
    "import seaborn as sns\n",
    "import matplotlib.pyplot as plt\n",
    "#from wordcloud import WordCloud\n",
    "import plotly\n"
   ]
  },
  {
   "cell_type": "code",
   "execution_count": 35,
   "id": "3a816084",
   "metadata": {
    "scrolled": true
   },
   "outputs": [],
   "source": [
    "data = pd.read_csv(r\"C:/Users/Pragya Nainwal/Desktop/drugsComTest_raw.csv\")"
   ]
  },
  {
   "cell_type": "code",
   "execution_count": 36,
   "id": "807df991",
   "metadata": {},
   "outputs": [],
   "source": [
    "# data1 = pd.read_csv(r\"C:/Users/Pragya Nainwal/Desktop/drugsComTrain_raw.csv\")"
   ]
  },
  {
   "cell_type": "code",
   "execution_count": 37,
   "id": "5813bb7c",
   "metadata": {},
   "outputs": [
    {
     "data": {
      "text/html": [
       "<div>\n",
       "<style scoped>\n",
       "    .dataframe tbody tr th:only-of-type {\n",
       "        vertical-align: middle;\n",
       "    }\n",
       "\n",
       "    .dataframe tbody tr th {\n",
       "        vertical-align: top;\n",
       "    }\n",
       "\n",
       "    .dataframe thead th {\n",
       "        text-align: right;\n",
       "    }\n",
       "</style>\n",
       "<table border=\"1\" class=\"dataframe\">\n",
       "  <thead>\n",
       "    <tr style=\"text-align: right;\">\n",
       "      <th></th>\n",
       "      <th>uniqueID</th>\n",
       "      <th>drugName</th>\n",
       "      <th>condition</th>\n",
       "      <th>review</th>\n",
       "      <th>rating</th>\n",
       "      <th>date</th>\n",
       "      <th>usefulCount</th>\n",
       "    </tr>\n",
       "  </thead>\n",
       "  <tbody>\n",
       "    <tr>\n",
       "      <th>0</th>\n",
       "      <td>163740</td>\n",
       "      <td>Mirtazapine</td>\n",
       "      <td>Depression</td>\n",
       "      <td>\"I&amp;#039;ve tried a few antidepressants over th...</td>\n",
       "      <td>10</td>\n",
       "      <td>28-Feb-12</td>\n",
       "      <td>22</td>\n",
       "    </tr>\n",
       "    <tr>\n",
       "      <th>1</th>\n",
       "      <td>206473</td>\n",
       "      <td>Mesalamine</td>\n",
       "      <td>Crohn's Disease, Maintenance</td>\n",
       "      <td>\"My son has Crohn&amp;#039;s disease and has done ...</td>\n",
       "      <td>8</td>\n",
       "      <td>17-May-09</td>\n",
       "      <td>17</td>\n",
       "    </tr>\n",
       "    <tr>\n",
       "      <th>2</th>\n",
       "      <td>159672</td>\n",
       "      <td>Bactrim</td>\n",
       "      <td>Urinary Tract Infection</td>\n",
       "      <td>\"Quick reduction of symptoms\"</td>\n",
       "      <td>9</td>\n",
       "      <td>29-Sep-17</td>\n",
       "      <td>3</td>\n",
       "    </tr>\n",
       "    <tr>\n",
       "      <th>3</th>\n",
       "      <td>39293</td>\n",
       "      <td>Contrave</td>\n",
       "      <td>Weight Loss</td>\n",
       "      <td>\"Contrave combines drugs that were used for al...</td>\n",
       "      <td>9</td>\n",
       "      <td>5-Mar-17</td>\n",
       "      <td>35</td>\n",
       "    </tr>\n",
       "    <tr>\n",
       "      <th>4</th>\n",
       "      <td>97768</td>\n",
       "      <td>Cyclafem 1 / 35</td>\n",
       "      <td>Birth Control</td>\n",
       "      <td>\"I have been on this birth control for one cyc...</td>\n",
       "      <td>9</td>\n",
       "      <td>22-Oct-15</td>\n",
       "      <td>4</td>\n",
       "    </tr>\n",
       "  </tbody>\n",
       "</table>\n",
       "</div>"
      ],
      "text/plain": [
       "   uniqueID         drugName                     condition  \\\n",
       "0    163740      Mirtazapine                    Depression   \n",
       "1    206473       Mesalamine  Crohn's Disease, Maintenance   \n",
       "2    159672          Bactrim       Urinary Tract Infection   \n",
       "3     39293         Contrave                   Weight Loss   \n",
       "4     97768  Cyclafem 1 / 35                 Birth Control   \n",
       "\n",
       "                                              review  rating       date  \\\n",
       "0  \"I&#039;ve tried a few antidepressants over th...      10  28-Feb-12   \n",
       "1  \"My son has Crohn&#039;s disease and has done ...       8  17-May-09   \n",
       "2                      \"Quick reduction of symptoms\"       9  29-Sep-17   \n",
       "3  \"Contrave combines drugs that were used for al...       9   5-Mar-17   \n",
       "4  \"I have been on this birth control for one cyc...       9  22-Oct-15   \n",
       "\n",
       "   usefulCount  \n",
       "0           22  \n",
       "1           17  \n",
       "2            3  \n",
       "3           35  \n",
       "4            4  "
      ]
     },
     "execution_count": 37,
     "metadata": {},
     "output_type": "execute_result"
    }
   ],
   "source": [
    "data.head(5)"
   ]
  },
  {
   "cell_type": "code",
   "execution_count": 38,
   "id": "69f06d8d",
   "metadata": {},
   "outputs": [
    {
     "data": {
      "text/html": [
       "<div>\n",
       "<style scoped>\n",
       "    .dataframe tbody tr th:only-of-type {\n",
       "        vertical-align: middle;\n",
       "    }\n",
       "\n",
       "    .dataframe tbody tr th {\n",
       "        vertical-align: top;\n",
       "    }\n",
       "\n",
       "    .dataframe thead th {\n",
       "        text-align: right;\n",
       "    }\n",
       "</style>\n",
       "<table border=\"1\" class=\"dataframe\">\n",
       "  <thead>\n",
       "    <tr style=\"text-align: right;\">\n",
       "      <th></th>\n",
       "      <th>review</th>\n",
       "    </tr>\n",
       "  </thead>\n",
       "  <tbody>\n",
       "    <tr>\n",
       "      <th>0</th>\n",
       "      <td>\"I&amp;#039;ve tried a few antidepressants over th...</td>\n",
       "    </tr>\n",
       "    <tr>\n",
       "      <th>1</th>\n",
       "      <td>\"My son has Crohn&amp;#039;s disease and has done ...</td>\n",
       "    </tr>\n",
       "    <tr>\n",
       "      <th>2</th>\n",
       "      <td>\"Quick reduction of symptoms\"</td>\n",
       "    </tr>\n",
       "    <tr>\n",
       "      <th>3</th>\n",
       "      <td>\"Contrave combines drugs that were used for al...</td>\n",
       "    </tr>\n",
       "    <tr>\n",
       "      <th>4</th>\n",
       "      <td>\"I have been on this birth control for one cyc...</td>\n",
       "    </tr>\n",
       "  </tbody>\n",
       "</table>\n",
       "</div>"
      ],
      "text/plain": [
       "                                              review\n",
       "0  \"I&#039;ve tried a few antidepressants over th...\n",
       "1  \"My son has Crohn&#039;s disease and has done ...\n",
       "2                      \"Quick reduction of symptoms\"\n",
       "3  \"Contrave combines drugs that were used for al...\n",
       "4  \"I have been on this birth control for one cyc..."
      ]
     },
     "execution_count": 38,
     "metadata": {},
     "output_type": "execute_result"
    }
   ],
   "source": [
    "data=data[['review']]\n",
    "data.head(5)"
   ]
  },
  {
   "cell_type": "code",
   "execution_count": 39,
   "id": "80d65869",
   "metadata": {},
   "outputs": [],
   "source": [
    "data=data.iloc[0:10000,:]"
   ]
  },
  {
   "cell_type": "code",
   "execution_count": 40,
   "id": "5d6763bb",
   "metadata": {},
   "outputs": [],
   "source": [
    "# pu=data.iloc[0:3000,:]"
   ]
  },
  {
   "cell_type": "code",
   "execution_count": 41,
   "id": "d8dc754e",
   "metadata": {},
   "outputs": [],
   "source": [
    "# pu.to_csv(\"C:/Users/Pragya Nainwal/Desktop/pu1.csv\")"
   ]
  },
  {
   "cell_type": "code",
   "execution_count": 42,
   "id": "70261c45",
   "metadata": {},
   "outputs": [
    {
     "data": {
      "text/html": [
       "<div>\n",
       "<style scoped>\n",
       "    .dataframe tbody tr th:only-of-type {\n",
       "        vertical-align: middle;\n",
       "    }\n",
       "\n",
       "    .dataframe tbody tr th {\n",
       "        vertical-align: top;\n",
       "    }\n",
       "\n",
       "    .dataframe thead th {\n",
       "        text-align: right;\n",
       "    }\n",
       "</style>\n",
       "<table border=\"1\" class=\"dataframe\">\n",
       "  <thead>\n",
       "    <tr style=\"text-align: right;\">\n",
       "      <th></th>\n",
       "      <th>review</th>\n",
       "    </tr>\n",
       "  </thead>\n",
       "  <tbody>\n",
       "    <tr>\n",
       "      <th>0</th>\n",
       "      <td>\"I&amp;#039;ve tried a few antidepressants over th...</td>\n",
       "    </tr>\n",
       "    <tr>\n",
       "      <th>1</th>\n",
       "      <td>\"My son has Crohn&amp;#039;s disease and has done ...</td>\n",
       "    </tr>\n",
       "    <tr>\n",
       "      <th>2</th>\n",
       "      <td>\"Quick reduction of symptoms\"</td>\n",
       "    </tr>\n",
       "    <tr>\n",
       "      <th>3</th>\n",
       "      <td>\"Contrave combines drugs that were used for al...</td>\n",
       "    </tr>\n",
       "    <tr>\n",
       "      <th>4</th>\n",
       "      <td>\"I have been on this birth control for one cyc...</td>\n",
       "    </tr>\n",
       "  </tbody>\n",
       "</table>\n",
       "</div>"
      ],
      "text/plain": [
       "                                              review\n",
       "0  \"I&#039;ve tried a few antidepressants over th...\n",
       "1  \"My son has Crohn&#039;s disease and has done ...\n",
       "2                      \"Quick reduction of symptoms\"\n",
       "3  \"Contrave combines drugs that were used for al...\n",
       "4  \"I have been on this birth control for one cyc..."
      ]
     },
     "execution_count": 42,
     "metadata": {},
     "output_type": "execute_result"
    }
   ],
   "source": [
    "data.head()"
   ]
  },
  {
   "cell_type": "code",
   "execution_count": 43,
   "id": "3eb7f26c",
   "metadata": {},
   "outputs": [
    {
     "data": {
      "text/plain": [
       "(10000, 1)"
      ]
     },
     "execution_count": 43,
     "metadata": {},
     "output_type": "execute_result"
    }
   ],
   "source": [
    "data.shape"
   ]
  },
  {
   "cell_type": "code",
   "execution_count": 44,
   "id": "abf1c55a",
   "metadata": {},
   "outputs": [],
   "source": [
    "#Edits After Removing Stopwords\n",
    "Edited_Review = data['review'].copy()\n",
    "data['Review_without_stopwords'] = Edited_Review"
   ]
  },
  {
   "cell_type": "code",
   "execution_count": 45,
   "id": "cf9e015e",
   "metadata": {},
   "outputs": [
    {
     "data": {
      "text/html": [
       "<div>\n",
       "<style scoped>\n",
       "    .dataframe tbody tr th:only-of-type {\n",
       "        vertical-align: middle;\n",
       "    }\n",
       "\n",
       "    .dataframe tbody tr th {\n",
       "        vertical-align: top;\n",
       "    }\n",
       "\n",
       "    .dataframe thead th {\n",
       "        text-align: right;\n",
       "    }\n",
       "</style>\n",
       "<table border=\"1\" class=\"dataframe\">\n",
       "  <thead>\n",
       "    <tr style=\"text-align: right;\">\n",
       "      <th></th>\n",
       "      <th>review</th>\n",
       "      <th>Review_without_stopwords</th>\n",
       "    </tr>\n",
       "  </thead>\n",
       "  <tbody>\n",
       "    <tr>\n",
       "      <th>0</th>\n",
       "      <td>\"I&amp;#039;ve tried a few antidepressants over th...</td>\n",
       "      <td>\"I&amp;#039;ve tried a few antidepressants over th...</td>\n",
       "    </tr>\n",
       "    <tr>\n",
       "      <th>1</th>\n",
       "      <td>\"My son has Crohn&amp;#039;s disease and has done ...</td>\n",
       "      <td>\"My son has Crohn&amp;#039;s disease and has done ...</td>\n",
       "    </tr>\n",
       "    <tr>\n",
       "      <th>2</th>\n",
       "      <td>\"Quick reduction of symptoms\"</td>\n",
       "      <td>\"Quick reduction of symptoms\"</td>\n",
       "    </tr>\n",
       "    <tr>\n",
       "      <th>3</th>\n",
       "      <td>\"Contrave combines drugs that were used for al...</td>\n",
       "      <td>\"Contrave combines drugs that were used for al...</td>\n",
       "    </tr>\n",
       "    <tr>\n",
       "      <th>4</th>\n",
       "      <td>\"I have been on this birth control for one cyc...</td>\n",
       "      <td>\"I have been on this birth control for one cyc...</td>\n",
       "    </tr>\n",
       "  </tbody>\n",
       "</table>\n",
       "</div>"
      ],
      "text/plain": [
       "                                              review  \\\n",
       "0  \"I&#039;ve tried a few antidepressants over th...   \n",
       "1  \"My son has Crohn&#039;s disease and has done ...   \n",
       "2                      \"Quick reduction of symptoms\"   \n",
       "3  \"Contrave combines drugs that were used for al...   \n",
       "4  \"I have been on this birth control for one cyc...   \n",
       "\n",
       "                            Review_without_stopwords  \n",
       "0  \"I&#039;ve tried a few antidepressants over th...  \n",
       "1  \"My son has Crohn&#039;s disease and has done ...  \n",
       "2                      \"Quick reduction of symptoms\"  \n",
       "3  \"Contrave combines drugs that were used for al...  \n",
       "4  \"I have been on this birth control for one cyc...  "
      ]
     },
     "execution_count": 45,
     "metadata": {},
     "output_type": "execute_result"
    }
   ],
   "source": [
    "data.head(5)"
   ]
  },
  {
   "cell_type": "code",
   "execution_count": 46,
   "id": "c213b281",
   "metadata": {},
   "outputs": [
    {
     "data": {
      "text/html": [
       "<div>\n",
       "<style scoped>\n",
       "    .dataframe tbody tr th:only-of-type {\n",
       "        vertical-align: middle;\n",
       "    }\n",
       "\n",
       "    .dataframe tbody tr th {\n",
       "        vertical-align: top;\n",
       "    }\n",
       "\n",
       "    .dataframe thead th {\n",
       "        text-align: right;\n",
       "    }\n",
       "</style>\n",
       "<table border=\"1\" class=\"dataframe\">\n",
       "  <thead>\n",
       "    <tr style=\"text-align: right;\">\n",
       "      <th></th>\n",
       "      <th>review</th>\n",
       "      <th>Review_without_stopwords</th>\n",
       "    </tr>\n",
       "  </thead>\n",
       "  <tbody>\n",
       "    <tr>\n",
       "      <th>0</th>\n",
       "      <td>\"I&amp;#039;ve tried a few antidepressants over th...</td>\n",
       "      <td>\"I&amp;#039;ve tried a few antidepressants over th...</td>\n",
       "    </tr>\n",
       "    <tr>\n",
       "      <th>1</th>\n",
       "      <td>\"My son has Crohn&amp;#039;s disease and has done ...</td>\n",
       "      <td>\"My son has Crohn&amp;#039;s disease and has done ...</td>\n",
       "    </tr>\n",
       "    <tr>\n",
       "      <th>2</th>\n",
       "      <td>\"Quick reduction of symptoms\"</td>\n",
       "      <td>\"Quick reduction of symptoms\"</td>\n",
       "    </tr>\n",
       "    <tr>\n",
       "      <th>3</th>\n",
       "      <td>\"Contrave combines drugs that were used for al...</td>\n",
       "      <td>\"Contrave combines drugs that were used for al...</td>\n",
       "    </tr>\n",
       "    <tr>\n",
       "      <th>4</th>\n",
       "      <td>\"I have been on this birth control for one cyc...</td>\n",
       "      <td>\"I have been on this birth control for one cyc...</td>\n",
       "    </tr>\n",
       "  </tbody>\n",
       "</table>\n",
       "</div>"
      ],
      "text/plain": [
       "                                              review  \\\n",
       "0  \"I&#039;ve tried a few antidepressants over th...   \n",
       "1  \"My son has Crohn&#039;s disease and has done ...   \n",
       "2                      \"Quick reduction of symptoms\"   \n",
       "3  \"Contrave combines drugs that were used for al...   \n",
       "4  \"I have been on this birth control for one cyc...   \n",
       "\n",
       "                            Review_without_stopwords  \n",
       "0  \"I&#039;ve tried a few antidepressants over th...  \n",
       "1  \"My son has Crohn&#039;s disease and has done ...  \n",
       "2                      \"Quick reduction of symptoms\"  \n",
       "3  \"Contrave combines drugs that were used for al...  \n",
       "4  \"I have been on this birth control for one cyc...  "
      ]
     },
     "execution_count": 46,
     "metadata": {},
     "output_type": "execute_result"
    }
   ],
   "source": [
    "data.head(5)"
   ]
  },
  {
   "cell_type": "code",
   "execution_count": 47,
   "id": "42343181",
   "metadata": {},
   "outputs": [
    {
     "data": {
      "text/plain": [
       "(10000, 2)"
      ]
     },
     "execution_count": 47,
     "metadata": {},
     "output_type": "execute_result"
    }
   ],
   "source": [
    "nan_value = float(\"NaN\")\n",
    "data.replace(\"\", nan_value, inplace=True)\n",
    "\n",
    "data.dropna(subset = [\"Review_without_stopwords\"], inplace=True)\n",
    "data.shape"
   ]
  },
  {
   "cell_type": "code",
   "execution_count": 48,
   "id": "d1ee10f1",
   "metadata": {},
   "outputs": [
    {
     "name": "stdout",
     "output_type": "stream",
     "text": [
      "nan\n"
     ]
    }
   ],
   "source": [
    "print(nan_value)"
   ]
  },
  {
   "cell_type": "code",
   "execution_count": 49,
   "id": "488f7cd2",
   "metadata": {},
   "outputs": [
    {
     "data": {
      "text/html": [
       "<div>\n",
       "<style scoped>\n",
       "    .dataframe tbody tr th:only-of-type {\n",
       "        vertical-align: middle;\n",
       "    }\n",
       "\n",
       "    .dataframe tbody tr th {\n",
       "        vertical-align: top;\n",
       "    }\n",
       "\n",
       "    .dataframe thead th {\n",
       "        text-align: right;\n",
       "    }\n",
       "</style>\n",
       "<table border=\"1\" class=\"dataframe\">\n",
       "  <thead>\n",
       "    <tr style=\"text-align: right;\">\n",
       "      <th></th>\n",
       "      <th>review</th>\n",
       "      <th>Review_without_stopwords</th>\n",
       "    </tr>\n",
       "  </thead>\n",
       "  <tbody>\n",
       "    <tr>\n",
       "      <th>0</th>\n",
       "      <td>\"I&amp;#039;ve tried a few antidepressants over th...</td>\n",
       "      <td>\"I&amp;#039;ve tried a few antidepressants over th...</td>\n",
       "    </tr>\n",
       "    <tr>\n",
       "      <th>1</th>\n",
       "      <td>\"My son has Crohn&amp;#039;s disease and has done ...</td>\n",
       "      <td>\"My son has Crohn&amp;#039;s disease and has done ...</td>\n",
       "    </tr>\n",
       "    <tr>\n",
       "      <th>2</th>\n",
       "      <td>\"Quick reduction of symptoms\"</td>\n",
       "      <td>\"Quick reduction of symptoms\"</td>\n",
       "    </tr>\n",
       "    <tr>\n",
       "      <th>3</th>\n",
       "      <td>\"Contrave combines drugs that were used for al...</td>\n",
       "      <td>\"Contrave combines drugs that were used for al...</td>\n",
       "    </tr>\n",
       "    <tr>\n",
       "      <th>4</th>\n",
       "      <td>\"I have been on this birth control for one cyc...</td>\n",
       "      <td>\"I have been on this birth control for one cyc...</td>\n",
       "    </tr>\n",
       "  </tbody>\n",
       "</table>\n",
       "</div>"
      ],
      "text/plain": [
       "                                              review  \\\n",
       "0  \"I&#039;ve tried a few antidepressants over th...   \n",
       "1  \"My son has Crohn&#039;s disease and has done ...   \n",
       "2                      \"Quick reduction of symptoms\"   \n",
       "3  \"Contrave combines drugs that were used for al...   \n",
       "4  \"I have been on this birth control for one cyc...   \n",
       "\n",
       "                            Review_without_stopwords  \n",
       "0  \"I&#039;ve tried a few antidepressants over th...  \n",
       "1  \"My son has Crohn&#039;s disease and has done ...  \n",
       "2                      \"Quick reduction of symptoms\"  \n",
       "3  \"Contrave combines drugs that were used for al...  \n",
       "4  \"I have been on this birth control for one cyc...  "
      ]
     },
     "execution_count": 49,
     "metadata": {},
     "output_type": "execute_result"
    }
   ],
   "source": [
    "data.head()"
   ]
  },
  {
   "cell_type": "code",
   "execution_count": 50,
   "id": "0ae586fc",
   "metadata": {},
   "outputs": [],
   "source": [
    "# Function to preprocess Reviews data\n",
    "def preprocess_Reviews_data(data,name):\n",
    "    # Proprocessing the data\n",
    "    data[name]=data[name].str.lower()\n",
    "    # Code to remove the Hashtags from the text\n",
    "    #data[name]=data[name].apply(lambda x:re.sub(r'\\B#\\S+','',x))\n",
    "    # Code to remove the links from the text\n",
    "    #data[name]=data[name].apply(lambda x:re.sub(r\"http\\S+\", \"\", x))\n",
    "    # Code to remove the Special characters from the text \n",
    "    data[name]=data[name].apply(lambda x:' '.join(re.findall(r'\\w+', x)))\n",
    "    # Code to substitute the multiple spaces with single spaces\n",
    "    data[name]=data[name].apply(lambda x:re.sub(r'\\s+', ' ', x, flags=re.I))\n",
    "    # Code to remove all the single characters in the text\n",
    "    data[name]=data[name].apply(lambda x:re.sub(r'\\s+[a-zA-Z]\\s+', '', x))\n",
    "    # Remove the twitter handlers\n",
    "#     data[name]=data[name].apply(lambda x:re.sub('@[^\\s]+','',x))\n",
    "\n",
    "# Function to tokenize and remove the stopwords    \n",
    "def rem_stopwords_tokenize(data,name):\n",
    "      \n",
    "    def getting(sen):\n",
    "        example_sent = sen\n",
    "        \n",
    "        filtered_sentence = [] \n",
    "\n",
    "        stop_words = set(stopwords.words('english')) \n",
    "\n",
    "        word_tokens = word_tokenize(example_sent) \n",
    "        \n",
    "        filtered_sentence = [w for w in word_tokens if not w in stop_words] \n",
    "        \n",
    "        return filtered_sentence\n",
    "    # Using \"getting(sen)\" function to append edited sentence to data\n",
    "    x=[]\n",
    "    for i in data[name].values:\n",
    "        x.append(getting(i))\n",
    "    data[name]=x"
   ]
  },
  {
   "cell_type": "code",
   "execution_count": 51,
   "id": "9b8d0626",
   "metadata": {},
   "outputs": [],
   "source": [
    "lemmatizer = WordNetLemmatizer()\n",
    "def Lemmatization(data,name):\n",
    "    def getting2(sen):\n",
    "        example = sen\n",
    "        output_sentence =[]\n",
    "        word_tokens2 = word_tokenize(example)\n",
    "        lemmatized_output = [lemmatizer.lemmatize(w) for w in word_tokens2]\n",
    "        \n",
    "        # Remove characters which have length less than 2  \n",
    "        without_single_chr = [word for word in lemmatized_output if len(word) > 2]\n",
    "        # Remove numbers\n",
    "        cleaned_data_title = [word for word in without_single_chr if not word.isnumeric()]\n",
    "        \n",
    "        return cleaned_data_title\n",
    "    # Using \"getting2(sen)\" function to append edited sentence to data\n",
    "    x=[]\n",
    "    for i in data[name].values:\n",
    "        x.append(getting2(i))\n",
    "    data[name]=x"
   ]
  },
  {
   "cell_type": "code",
   "execution_count": 52,
   "id": "4e17602d",
   "metadata": {},
   "outputs": [],
   "source": [
    "def make_sentences(data,name):\n",
    "    data[name]=data[name].apply(lambda x:' '.join([i+' ' for i in x]))\n",
    "    # Removing double spaces if created\n",
    "    data[name]=data[name].apply(lambda x:re.sub(r'\\s+', ' ', x, flags=re.I))"
   ]
  },
  {
   "cell_type": "code",
   "execution_count": 53,
   "id": "ab72d784",
   "metadata": {},
   "outputs": [
    {
     "name": "stderr",
     "output_type": "stream",
     "text": [
      "[nltk_data] Downloading package stopwords to C:\\Users\\Pragya\n",
      "[nltk_data]     Nainwal\\AppData\\Roaming\\nltk_data...\n",
      "[nltk_data]   Package stopwords is already up-to-date!\n",
      "[nltk_data] Downloading package punkt to C:\\Users\\Pragya\n",
      "[nltk_data]     Nainwal\\AppData\\Roaming\\nltk_data...\n",
      "[nltk_data]   Package punkt is already up-to-date!\n",
      "[nltk_data] Downloading package wordnet to C:\\Users\\Pragya\n",
      "[nltk_data]     Nainwal\\AppData\\Roaming\\nltk_data...\n",
      "[nltk_data]   Package wordnet is already up-to-date!\n",
      "[nltk_data] Downloading package omw-1.4 to C:\\Users\\Pragya\n",
      "[nltk_data]     Nainwal\\AppData\\Roaming\\nltk_data...\n",
      "[nltk_data]   Package omw-1.4 is already up-to-date!\n"
     ]
    },
    {
     "data": {
      "text/plain": [
       "True"
      ]
     },
     "execution_count": 53,
     "metadata": {},
     "output_type": "execute_result"
    }
   ],
   "source": [
    "import nltk\n",
    "nltk.download('stopwords')\n",
    "nltk.download('punkt')\n",
    "nltk.download('wordnet')\n",
    "nltk.download('omw-1.4')"
   ]
  },
  {
   "cell_type": "code",
   "execution_count": 54,
   "id": "eb7b05a9",
   "metadata": {},
   "outputs": [],
   "source": [
    "# Using the preprocessing function to preprocess the hotel data\n",
    "preprocess_Reviews_data(data,'Review_without_stopwords')\n",
    "# Using tokenizer and removing the stopwords\n",
    "rem_stopwords_tokenize(data,'Review_without_stopwords')\n",
    "# Converting all the texts back to sentences\n",
    "make_sentences(data,'Review_without_stopwords')\n",
    "\n",
    "#Edits After Lemmatization\n",
    "final_Edit = data['Review_without_stopwords'].copy()\n",
    "data[\"After_lemmatization\"] = final_Edit\n",
    "\n",
    "# Using the Lemmatization function to lemmatize the hotel data\n",
    "Lemmatization(data,'After_lemmatization')\n",
    "# Converting all the texts back to sentences\n",
    "make_sentences(data,'After_lemmatization')"
   ]
  },
  {
   "cell_type": "code",
   "execution_count": 55,
   "id": "954b0edd",
   "metadata": {},
   "outputs": [
    {
     "data": {
      "text/html": [
       "<div>\n",
       "<style scoped>\n",
       "    .dataframe tbody tr th:only-of-type {\n",
       "        vertical-align: middle;\n",
       "    }\n",
       "\n",
       "    .dataframe tbody tr th {\n",
       "        vertical-align: top;\n",
       "    }\n",
       "\n",
       "    .dataframe thead th {\n",
       "        text-align: right;\n",
       "    }\n",
       "</style>\n",
       "<table border=\"1\" class=\"dataframe\">\n",
       "  <thead>\n",
       "    <tr style=\"text-align: right;\">\n",
       "      <th></th>\n",
       "      <th>review</th>\n",
       "      <th>Review_without_stopwords</th>\n",
       "      <th>After_lemmatization</th>\n",
       "    </tr>\n",
       "  </thead>\n",
       "  <tbody>\n",
       "    <tr>\n",
       "      <th>0</th>\n",
       "      <td>\"I&amp;#039;ve tried a few antidepressants over th...</td>\n",
       "      <td>039 triedfew antidepressants years citalopram ...</td>\n",
       "      <td>triedfew antidepressant year citalopram fluoxe...</td>\n",
       "    </tr>\n",
       "    <tr>\n",
       "      <th>1</th>\n",
       "      <td>\"My son has Crohn&amp;#039;s disease and has done ...</td>\n",
       "      <td>son crohn 039disease done well asacol complain...</td>\n",
       "      <td>son crohn 039disease done well asacol complain...</td>\n",
       "    </tr>\n",
       "    <tr>\n",
       "      <th>2</th>\n",
       "      <td>\"Quick reduction of symptoms\"</td>\n",
       "      <td>quick reduction symptoms</td>\n",
       "      <td>quick reduction symptom</td>\n",
       "    </tr>\n",
       "    <tr>\n",
       "      <th>3</th>\n",
       "      <td>\"Contrave combines drugs that were used for al...</td>\n",
       "      <td>contrave combines drugs used alcohol smoking o...</td>\n",
       "      <td>contrave combine drug used alcohol smoking opi...</td>\n",
       "    </tr>\n",
       "    <tr>\n",
       "      <th>4</th>\n",
       "      <td>\"I have been on this birth control for one cyc...</td>\n",
       "      <td>birth control one cycle reading reviews type s...</td>\n",
       "      <td>birth control one cycle reading review type si...</td>\n",
       "    </tr>\n",
       "    <tr>\n",
       "      <th>5</th>\n",
       "      <td>\"4 days in on first 2 weeks.  Using on arms an...</td>\n",
       "      <td>4 days first 2 weeks using arms face put vasel...</td>\n",
       "      <td>day first week using arm face put vaseline lip...</td>\n",
       "    </tr>\n",
       "  </tbody>\n",
       "</table>\n",
       "</div>"
      ],
      "text/plain": [
       "                                              review  \\\n",
       "0  \"I&#039;ve tried a few antidepressants over th...   \n",
       "1  \"My son has Crohn&#039;s disease and has done ...   \n",
       "2                      \"Quick reduction of symptoms\"   \n",
       "3  \"Contrave combines drugs that were used for al...   \n",
       "4  \"I have been on this birth control for one cyc...   \n",
       "5  \"4 days in on first 2 weeks.  Using on arms an...   \n",
       "\n",
       "                            Review_without_stopwords  \\\n",
       "0  039 triedfew antidepressants years citalopram ...   \n",
       "1  son crohn 039disease done well asacol complain...   \n",
       "2                          quick reduction symptoms    \n",
       "3  contrave combines drugs used alcohol smoking o...   \n",
       "4  birth control one cycle reading reviews type s...   \n",
       "5  4 days first 2 weeks using arms face put vasel...   \n",
       "\n",
       "                                 After_lemmatization  \n",
       "0  triedfew antidepressant year citalopram fluoxe...  \n",
       "1  son crohn 039disease done well asacol complain...  \n",
       "2                           quick reduction symptom   \n",
       "3  contrave combine drug used alcohol smoking opi...  \n",
       "4  birth control one cycle reading review type si...  \n",
       "5  day first week using arm face put vaseline lip...  "
      ]
     },
     "execution_count": 55,
     "metadata": {},
     "output_type": "execute_result"
    }
   ],
   "source": [
    "data.head(6)"
   ]
  },
  {
   "cell_type": "code",
   "execution_count": 56,
   "id": "bf6fcfe1",
   "metadata": {},
   "outputs": [],
   "source": [
    "import nltk\n",
    "import ssl\n",
    "from nltk.corpus import wordnet as wn\n",
    "from nltk.corpus import sentiwordnet as swn\n",
    "from nltk.stem import WordNetLemmatizer\n",
    "from nltk.corpus import stopwords"
   ]
  },
  {
   "cell_type": "code",
   "execution_count": 57,
   "id": "32d5c86c",
   "metadata": {},
   "outputs": [
    {
     "name": "stderr",
     "output_type": "stream",
     "text": [
      "[nltk_data] Downloading package averaged_perceptron_tagger to\n",
      "[nltk_data]     C:\\Users\\Pragya Nainwal\\AppData\\Roaming\\nltk_data...\n",
      "[nltk_data]   Package averaged_perceptron_tagger is already up-to-\n",
      "[nltk_data]       date!\n",
      "[nltk_data] Downloading package sentiwordnet to C:\\Users\\Pragya\n",
      "[nltk_data]     Nainwal\\AppData\\Roaming\\nltk_data...\n",
      "[nltk_data]   Package sentiwordnet is already up-to-date!\n"
     ]
    },
    {
     "data": {
      "text/plain": [
       "True"
      ]
     },
     "execution_count": 57,
     "metadata": {},
     "output_type": "execute_result"
    }
   ],
   "source": [
    "nltk.download('averaged_perceptron_tagger')\n",
    "nltk.download('sentiwordnet')"
   ]
  },
  {
   "cell_type": "code",
   "execution_count": 58,
   "id": "6e5fea91",
   "metadata": {},
   "outputs": [
    {
     "name": "stdout",
     "output_type": "stream",
     "text": [
      "0      -0.875\n",
      "1       1.625\n",
      "2       0.000\n",
      "3       0.625\n",
      "4       1.500\n",
      "        ...  \n",
      "9995    4.500\n",
      "9996    2.125\n",
      "9997    1.125\n",
      "9998   -4.000\n",
      "9999   -1.750\n",
      "Name: senti_score, Length: 10000, dtype: float64\n",
      "                                              review  \\\n",
      "0  \"I&#039;ve tried a few antidepressants over th...   \n",
      "1  \"My son has Crohn&#039;s disease and has done ...   \n",
      "2                      \"Quick reduction of symptoms\"   \n",
      "3  \"Contrave combines drugs that were used for al...   \n",
      "4  \"I have been on this birth control for one cyc...   \n",
      "\n",
      "                            Review_without_stopwords  \\\n",
      "0  039 triedfew antidepressants years citalopram ...   \n",
      "1  son crohn 039disease done well asacol complain...   \n",
      "2                          quick reduction symptoms    \n",
      "3  contrave combines drugs used alcohol smoking o...   \n",
      "4  birth control one cycle reading reviews type s...   \n",
      "\n",
      "                                 After_lemmatization  \\\n",
      "0  triedfew antidepressant year citalopram fluoxe...   \n",
      "1  son crohn 039disease done well asacol complain...   \n",
      "2                           quick reduction symptom    \n",
      "3  contrave combine drug used alcohol smoking opi...   \n",
      "4  birth control one cycle reading review type si...   \n",
      "\n",
      "                                            pos_tags  senti_score  \n",
      "0  [(triedfew, NN), (antidepressant, JJ), (year, ...       -0.875  \n",
      "1  [(son, NN), (crohn, VBD), (039disease, CD), (d...        1.625  \n",
      "2      [(quick, JJ), (reduction, NN), (symptom, NN)]        0.000  \n",
      "3  [(contrave, JJ), (combine, JJ), (drug, NN), (u...        0.625  \n",
      "4  [(birth, NN), (control, NN), (one, CD), (cycle...        1.500  \n"
     ]
    }
   ],
   "source": [
    "pos=neg=obj=count=0\n",
    "\n",
    "postagging = []\n",
    "\n",
    "for review in data['After_lemmatization']:\n",
    "    list = word_tokenize(review)\n",
    "    postagging.append(nltk.pos_tag(list))\n",
    "\n",
    "data['pos_tags'] = postagging\n",
    "\n",
    "def penn_to_wn(tag):\n",
    "    if tag.startswith('J'):\n",
    "        return wn.ADJ\n",
    "    elif tag.startswith('N'):\n",
    "        return wn.NOUN\n",
    "    elif tag.startswith('R'):\n",
    "        return wn.ADV\n",
    "    elif tag.startswith('V'):\n",
    "        return wn.VERB\n",
    "    return None\n",
    "\n",
    "\n",
    "# Returns list of pos-neg and objective score. But returns empty list if not present in senti wordnet.\n",
    "def get_sentiment(word,tag):\n",
    "    wn_tag = penn_to_wn(tag)\n",
    "    \n",
    "    if wn_tag not in (wn.NOUN, wn.ADJ, wn.ADV):\n",
    "        return []\n",
    "\n",
    "    #Lemmatization\n",
    "    lemma = lemmatizer.lemmatize(word, pos=wn_tag)\n",
    "    if not lemma:\n",
    "        return []\n",
    "\n",
    "    #Synset is a special kind of a simple interface that is present in NLTK to look up words in WordNet. \n",
    "    #Synset instances are the groupings of synonymous words that express the same concept. \n",
    "    #Some of the words have only one Synset and some have several.\n",
    "    synsets = wn.synsets(word, pos=wn_tag)\n",
    "    if not synsets:\n",
    "        return []\n",
    "\n",
    "    # Take the first sense, the most common\n",
    "    synset = synsets[0]\n",
    "    swn_synset = swn.senti_synset(synset.name())\n",
    "#  self.obj_score = 1.0 - (self.pos_score + self.neg_score)\n",
    "\n",
    "    return [synset.name(), swn_synset.pos_score(),swn_synset.neg_score(),swn_synset.obj_score()]\n",
    "\n",
    "    pos=neg=obj=count=0\n",
    "    \n",
    "    ###################################################################################\n",
    "senti_score = []\n",
    "\n",
    "for pos_val in data['pos_tags']:\n",
    "    senti_val = [get_sentiment(x,y) for (x,y) in pos_val]\n",
    "    for score in senti_val:\n",
    "        try:\n",
    "            pos = pos + score[1]  #positive score is stored at 2nd position\n",
    "            neg = neg + score[2]  #negative score is stored at 3rd position\n",
    "        except:\n",
    "            continue\n",
    "    senti_score.append(pos - neg)\n",
    "    pos=neg=0    \n",
    "    \n",
    "data['senti_score'] = senti_score\n",
    "print(data['senti_score'])\n",
    "\n",
    "print(data.head(5))"
   ]
  },
  {
   "cell_type": "code",
   "execution_count": 59,
   "id": "553edf52",
   "metadata": {},
   "outputs": [
    {
     "data": {
      "text/html": [
       "<div>\n",
       "<style scoped>\n",
       "    .dataframe tbody tr th:only-of-type {\n",
       "        vertical-align: middle;\n",
       "    }\n",
       "\n",
       "    .dataframe tbody tr th {\n",
       "        vertical-align: top;\n",
       "    }\n",
       "\n",
       "    .dataframe thead th {\n",
       "        text-align: right;\n",
       "    }\n",
       "</style>\n",
       "<table border=\"1\" class=\"dataframe\">\n",
       "  <thead>\n",
       "    <tr style=\"text-align: right;\">\n",
       "      <th></th>\n",
       "      <th>review</th>\n",
       "      <th>Review_without_stopwords</th>\n",
       "      <th>After_lemmatization</th>\n",
       "      <th>pos_tags</th>\n",
       "      <th>senti_score</th>\n",
       "    </tr>\n",
       "  </thead>\n",
       "  <tbody>\n",
       "    <tr>\n",
       "      <th>0</th>\n",
       "      <td>\"I&amp;#039;ve tried a few antidepressants over th...</td>\n",
       "      <td>039 triedfew antidepressants years citalopram ...</td>\n",
       "      <td>triedfew antidepressant year citalopram fluoxe...</td>\n",
       "      <td>[(triedfew, NN), (antidepressant, JJ), (year, ...</td>\n",
       "      <td>-0.875</td>\n",
       "    </tr>\n",
       "    <tr>\n",
       "      <th>1</th>\n",
       "      <td>\"My son has Crohn&amp;#039;s disease and has done ...</td>\n",
       "      <td>son crohn 039disease done well asacol complain...</td>\n",
       "      <td>son crohn 039disease done well asacol complain...</td>\n",
       "      <td>[(son, NN), (crohn, VBD), (039disease, CD), (d...</td>\n",
       "      <td>1.625</td>\n",
       "    </tr>\n",
       "    <tr>\n",
       "      <th>2</th>\n",
       "      <td>\"Quick reduction of symptoms\"</td>\n",
       "      <td>quick reduction symptoms</td>\n",
       "      <td>quick reduction symptom</td>\n",
       "      <td>[(quick, JJ), (reduction, NN), (symptom, NN)]</td>\n",
       "      <td>0.000</td>\n",
       "    </tr>\n",
       "    <tr>\n",
       "      <th>3</th>\n",
       "      <td>\"Contrave combines drugs that were used for al...</td>\n",
       "      <td>contrave combines drugs used alcohol smoking o...</td>\n",
       "      <td>contrave combine drug used alcohol smoking opi...</td>\n",
       "      <td>[(contrave, JJ), (combine, JJ), (drug, NN), (u...</td>\n",
       "      <td>0.625</td>\n",
       "    </tr>\n",
       "    <tr>\n",
       "      <th>4</th>\n",
       "      <td>\"I have been on this birth control for one cyc...</td>\n",
       "      <td>birth control one cycle reading reviews type s...</td>\n",
       "      <td>birth control one cycle reading review type si...</td>\n",
       "      <td>[(birth, NN), (control, NN), (one, CD), (cycle...</td>\n",
       "      <td>1.500</td>\n",
       "    </tr>\n",
       "  </tbody>\n",
       "</table>\n",
       "</div>"
      ],
      "text/plain": [
       "                                              review  \\\n",
       "0  \"I&#039;ve tried a few antidepressants over th...   \n",
       "1  \"My son has Crohn&#039;s disease and has done ...   \n",
       "2                      \"Quick reduction of symptoms\"   \n",
       "3  \"Contrave combines drugs that were used for al...   \n",
       "4  \"I have been on this birth control for one cyc...   \n",
       "\n",
       "                            Review_without_stopwords  \\\n",
       "0  039 triedfew antidepressants years citalopram ...   \n",
       "1  son crohn 039disease done well asacol complain...   \n",
       "2                          quick reduction symptoms    \n",
       "3  contrave combines drugs used alcohol smoking o...   \n",
       "4  birth control one cycle reading reviews type s...   \n",
       "\n",
       "                                 After_lemmatization  \\\n",
       "0  triedfew antidepressant year citalopram fluoxe...   \n",
       "1  son crohn 039disease done well asacol complain...   \n",
       "2                           quick reduction symptom    \n",
       "3  contrave combine drug used alcohol smoking opi...   \n",
       "4  birth control one cycle reading review type si...   \n",
       "\n",
       "                                            pos_tags  senti_score  \n",
       "0  [(triedfew, NN), (antidepressant, JJ), (year, ...       -0.875  \n",
       "1  [(son, NN), (crohn, VBD), (039disease, CD), (d...        1.625  \n",
       "2      [(quick, JJ), (reduction, NN), (symptom, NN)]        0.000  \n",
       "3  [(contrave, JJ), (combine, JJ), (drug, NN), (u...        0.625  \n",
       "4  [(birth, NN), (control, NN), (one, CD), (cycle...        1.500  "
      ]
     },
     "execution_count": 59,
     "metadata": {},
     "output_type": "execute_result"
    }
   ],
   "source": [
    "data.head()"
   ]
  },
  {
   "cell_type": "code",
   "execution_count": 60,
   "id": "aa27314f",
   "metadata": {},
   "outputs": [],
   "source": [
    "overall=[]\n",
    "for i in range(len(data)):\n",
    "    if data['senti_score'][i]> 0.05:\n",
    "        overall.append('Positive')\n",
    "    elif data['senti_score'][i]< -0.05:\n",
    "        overall.append('Negative')\n",
    "    else:\n",
    "        overall.append('Neutral')\n",
    "data['Overall Sentiment']=overall"
   ]
  },
  {
   "cell_type": "code",
   "execution_count": 61,
   "id": "92560be1",
   "metadata": {},
   "outputs": [
    {
     "data": {
      "text/html": [
       "<div>\n",
       "<style scoped>\n",
       "    .dataframe tbody tr th:only-of-type {\n",
       "        vertical-align: middle;\n",
       "    }\n",
       "\n",
       "    .dataframe tbody tr th {\n",
       "        vertical-align: top;\n",
       "    }\n",
       "\n",
       "    .dataframe thead th {\n",
       "        text-align: right;\n",
       "    }\n",
       "</style>\n",
       "<table border=\"1\" class=\"dataframe\">\n",
       "  <thead>\n",
       "    <tr style=\"text-align: right;\">\n",
       "      <th></th>\n",
       "      <th>review</th>\n",
       "      <th>Review_without_stopwords</th>\n",
       "      <th>After_lemmatization</th>\n",
       "      <th>pos_tags</th>\n",
       "      <th>senti_score</th>\n",
       "      <th>Overall Sentiment</th>\n",
       "    </tr>\n",
       "  </thead>\n",
       "  <tbody>\n",
       "    <tr>\n",
       "      <th>0</th>\n",
       "      <td>\"I&amp;#039;ve tried a few antidepressants over th...</td>\n",
       "      <td>039 triedfew antidepressants years citalopram ...</td>\n",
       "      <td>triedfew antidepressant year citalopram fluoxe...</td>\n",
       "      <td>[(triedfew, NN), (antidepressant, JJ), (year, ...</td>\n",
       "      <td>-0.875</td>\n",
       "      <td>Negative</td>\n",
       "    </tr>\n",
       "    <tr>\n",
       "      <th>1</th>\n",
       "      <td>\"My son has Crohn&amp;#039;s disease and has done ...</td>\n",
       "      <td>son crohn 039disease done well asacol complain...</td>\n",
       "      <td>son crohn 039disease done well asacol complain...</td>\n",
       "      <td>[(son, NN), (crohn, VBD), (039disease, CD), (d...</td>\n",
       "      <td>1.625</td>\n",
       "      <td>Positive</td>\n",
       "    </tr>\n",
       "    <tr>\n",
       "      <th>2</th>\n",
       "      <td>\"Quick reduction of symptoms\"</td>\n",
       "      <td>quick reduction symptoms</td>\n",
       "      <td>quick reduction symptom</td>\n",
       "      <td>[(quick, JJ), (reduction, NN), (symptom, NN)]</td>\n",
       "      <td>0.000</td>\n",
       "      <td>Neutral</td>\n",
       "    </tr>\n",
       "    <tr>\n",
       "      <th>3</th>\n",
       "      <td>\"Contrave combines drugs that were used for al...</td>\n",
       "      <td>contrave combines drugs used alcohol smoking o...</td>\n",
       "      <td>contrave combine drug used alcohol smoking opi...</td>\n",
       "      <td>[(contrave, JJ), (combine, JJ), (drug, NN), (u...</td>\n",
       "      <td>0.625</td>\n",
       "      <td>Positive</td>\n",
       "    </tr>\n",
       "    <tr>\n",
       "      <th>4</th>\n",
       "      <td>\"I have been on this birth control for one cyc...</td>\n",
       "      <td>birth control one cycle reading reviews type s...</td>\n",
       "      <td>birth control one cycle reading review type si...</td>\n",
       "      <td>[(birth, NN), (control, NN), (one, CD), (cycle...</td>\n",
       "      <td>1.500</td>\n",
       "      <td>Positive</td>\n",
       "    </tr>\n",
       "    <tr>\n",
       "      <th>5</th>\n",
       "      <td>\"4 days in on first 2 weeks.  Using on arms an...</td>\n",
       "      <td>4 days first 2 weeks using arms face put vasel...</td>\n",
       "      <td>day first week using arm face put vaseline lip...</td>\n",
       "      <td>[(day, NN), (first, RB), (week, NN), (using, V...</td>\n",
       "      <td>0.875</td>\n",
       "      <td>Positive</td>\n",
       "    </tr>\n",
       "    <tr>\n",
       "      <th>6</th>\n",
       "      <td>\"I&amp;#039;ve had the copper coil for about 3 mon...</td>\n",
       "      <td>039 copper coil 3 months nowwas really excited...</td>\n",
       "      <td>copper coil month nowwas really excited though...</td>\n",
       "      <td>[(copper, NN), (coil, NN), (month, NN), (nowwa...</td>\n",
       "      <td>-2.875</td>\n",
       "      <td>Negative</td>\n",
       "    </tr>\n",
       "    <tr>\n",
       "      <th>7</th>\n",
       "      <td>\"This has been great for me. I&amp;#039;ve been on...</td>\n",
       "      <td>great me039 2 weeks last weekonly 3 headaches ...</td>\n",
       "      <td>great me039 week last weekonly headache went a...</td>\n",
       "      <td>[(great, JJ), (me039, NN), (week, NN), (last, ...</td>\n",
       "      <td>-0.375</td>\n",
       "      <td>Negative</td>\n",
       "    </tr>\n",
       "    <tr>\n",
       "      <th>8</th>\n",
       "      <td>\"Ive been on Methadone for over ten years and ...</td>\n",
       "      <td>ive methadone ten years currentlyam trying get...</td>\n",
       "      <td>ive methadone ten year currentlyam trying get ...</td>\n",
       "      <td>[(ive, JJ), (methadone, NN), (ten, CD), (year,...</td>\n",
       "      <td>0.375</td>\n",
       "      <td>Positive</td>\n",
       "    </tr>\n",
       "    <tr>\n",
       "      <th>9</th>\n",
       "      <td>\"I was on this pill for almost two years. It d...</td>\n",
       "      <td>pill almost two years work far getting pregnan...</td>\n",
       "      <td>pill almost two year work far getting pregnant...</td>\n",
       "      <td>[(pill, NN), (almost, RB), (two, CD), (year, N...</td>\n",
       "      <td>-1.875</td>\n",
       "      <td>Negative</td>\n",
       "    </tr>\n",
       "  </tbody>\n",
       "</table>\n",
       "</div>"
      ],
      "text/plain": [
       "                                              review  \\\n",
       "0  \"I&#039;ve tried a few antidepressants over th...   \n",
       "1  \"My son has Crohn&#039;s disease and has done ...   \n",
       "2                      \"Quick reduction of symptoms\"   \n",
       "3  \"Contrave combines drugs that were used for al...   \n",
       "4  \"I have been on this birth control for one cyc...   \n",
       "5  \"4 days in on first 2 weeks.  Using on arms an...   \n",
       "6  \"I&#039;ve had the copper coil for about 3 mon...   \n",
       "7  \"This has been great for me. I&#039;ve been on...   \n",
       "8  \"Ive been on Methadone for over ten years and ...   \n",
       "9  \"I was on this pill for almost two years. It d...   \n",
       "\n",
       "                            Review_without_stopwords  \\\n",
       "0  039 triedfew antidepressants years citalopram ...   \n",
       "1  son crohn 039disease done well asacol complain...   \n",
       "2                          quick reduction symptoms    \n",
       "3  contrave combines drugs used alcohol smoking o...   \n",
       "4  birth control one cycle reading reviews type s...   \n",
       "5  4 days first 2 weeks using arms face put vasel...   \n",
       "6  039 copper coil 3 months nowwas really excited...   \n",
       "7  great me039 2 weeks last weekonly 3 headaches ...   \n",
       "8  ive methadone ten years currentlyam trying get...   \n",
       "9  pill almost two years work far getting pregnan...   \n",
       "\n",
       "                                 After_lemmatization  \\\n",
       "0  triedfew antidepressant year citalopram fluoxe...   \n",
       "1  son crohn 039disease done well asacol complain...   \n",
       "2                           quick reduction symptom    \n",
       "3  contrave combine drug used alcohol smoking opi...   \n",
       "4  birth control one cycle reading review type si...   \n",
       "5  day first week using arm face put vaseline lip...   \n",
       "6  copper coil month nowwas really excited though...   \n",
       "7  great me039 week last weekonly headache went a...   \n",
       "8  ive methadone ten year currentlyam trying get ...   \n",
       "9  pill almost two year work far getting pregnant...   \n",
       "\n",
       "                                            pos_tags  senti_score  \\\n",
       "0  [(triedfew, NN), (antidepressant, JJ), (year, ...       -0.875   \n",
       "1  [(son, NN), (crohn, VBD), (039disease, CD), (d...        1.625   \n",
       "2      [(quick, JJ), (reduction, NN), (symptom, NN)]        0.000   \n",
       "3  [(contrave, JJ), (combine, JJ), (drug, NN), (u...        0.625   \n",
       "4  [(birth, NN), (control, NN), (one, CD), (cycle...        1.500   \n",
       "5  [(day, NN), (first, RB), (week, NN), (using, V...        0.875   \n",
       "6  [(copper, NN), (coil, NN), (month, NN), (nowwa...       -2.875   \n",
       "7  [(great, JJ), (me039, NN), (week, NN), (last, ...       -0.375   \n",
       "8  [(ive, JJ), (methadone, NN), (ten, CD), (year,...        0.375   \n",
       "9  [(pill, NN), (almost, RB), (two, CD), (year, N...       -1.875   \n",
       "\n",
       "  Overall Sentiment  \n",
       "0          Negative  \n",
       "1          Positive  \n",
       "2           Neutral  \n",
       "3          Positive  \n",
       "4          Positive  \n",
       "5          Positive  \n",
       "6          Negative  \n",
       "7          Negative  \n",
       "8          Positive  \n",
       "9          Negative  "
      ]
     },
     "execution_count": 61,
     "metadata": {},
     "output_type": "execute_result"
    }
   ],
   "source": [
    "data.head(10)"
   ]
  },
  {
   "cell_type": "code",
   "execution_count": 62,
   "id": "6c19dd5d",
   "metadata": {},
   "outputs": [],
   "source": [
    "data.drop(['review'],axis=1,inplace=True)\n",
    "data.drop(['Review_without_stopwords'],axis=1,inplace=True)\n",
    "data.drop(['pos_tags'],axis=1,inplace=True)\n",
    "data.drop(['senti_score'],axis=1,inplace=True)"
   ]
  },
  {
   "cell_type": "code",
   "execution_count": 63,
   "id": "341395eb",
   "metadata": {},
   "outputs": [
    {
     "data": {
      "text/html": [
       "<div>\n",
       "<style scoped>\n",
       "    .dataframe tbody tr th:only-of-type {\n",
       "        vertical-align: middle;\n",
       "    }\n",
       "\n",
       "    .dataframe tbody tr th {\n",
       "        vertical-align: top;\n",
       "    }\n",
       "\n",
       "    .dataframe thead th {\n",
       "        text-align: right;\n",
       "    }\n",
       "</style>\n",
       "<table border=\"1\" class=\"dataframe\">\n",
       "  <thead>\n",
       "    <tr style=\"text-align: right;\">\n",
       "      <th></th>\n",
       "      <th>After_lemmatization</th>\n",
       "      <th>Overall Sentiment</th>\n",
       "    </tr>\n",
       "  </thead>\n",
       "  <tbody>\n",
       "    <tr>\n",
       "      <th>0</th>\n",
       "      <td>triedfew antidepressant year citalopram fluoxe...</td>\n",
       "      <td>Negative</td>\n",
       "    </tr>\n",
       "    <tr>\n",
       "      <th>1</th>\n",
       "      <td>son crohn 039disease done well asacol complain...</td>\n",
       "      <td>Positive</td>\n",
       "    </tr>\n",
       "    <tr>\n",
       "      <th>2</th>\n",
       "      <td>quick reduction symptom</td>\n",
       "      <td>Neutral</td>\n",
       "    </tr>\n",
       "    <tr>\n",
       "      <th>3</th>\n",
       "      <td>contrave combine drug used alcohol smoking opi...</td>\n",
       "      <td>Positive</td>\n",
       "    </tr>\n",
       "    <tr>\n",
       "      <th>4</th>\n",
       "      <td>birth control one cycle reading review type si...</td>\n",
       "      <td>Positive</td>\n",
       "    </tr>\n",
       "  </tbody>\n",
       "</table>\n",
       "</div>"
      ],
      "text/plain": [
       "                                 After_lemmatization Overall Sentiment\n",
       "0  triedfew antidepressant year citalopram fluoxe...          Negative\n",
       "1  son crohn 039disease done well asacol complain...          Positive\n",
       "2                           quick reduction symptom            Neutral\n",
       "3  contrave combine drug used alcohol smoking opi...          Positive\n",
       "4  birth control one cycle reading review type si...          Positive"
      ]
     },
     "execution_count": 63,
     "metadata": {},
     "output_type": "execute_result"
    }
   ],
   "source": [
    "data.head(5)"
   ]
  },
  {
   "cell_type": "code",
   "execution_count": 64,
   "id": "e83ed38c",
   "metadata": {},
   "outputs": [
    {
     "name": "stderr",
     "output_type": "stream",
     "text": [
      "C:\\ANACONDADS\\envs\\tf\\lib\\site-packages\\seaborn\\_decorators.py:36: FutureWarning: Pass the following variable as a keyword arg: x. From version 0.12, the only valid positional argument will be `data`, and passing other arguments without an explicit keyword will result in an error or misinterpretation.\n",
      "  warnings.warn(\n"
     ]
    },
    {
     "data": {
      "text/plain": [
       "<AxesSubplot:xlabel='Overall Sentiment', ylabel='count'>"
      ]
     },
     "execution_count": 64,
     "metadata": {},
     "output_type": "execute_result"
    },
    {
     "data": {
      "image/png": "[encoded data removed]",
      "text/plain": [
       "<Figure size 432x288 with 1 Axes>"
      ]
     },
     "metadata": {
      "needs_background": "light"
     },
     "output_type": "display_data"
    }
   ],
   "source": [
    "import seaborn as sns\n",
    "sns.countplot(data['Overall Sentiment'])"
   ]
  },
  {
   "cell_type": "code",
   "execution_count": 65,
   "id": "7095c985",
   "metadata": {},
   "outputs": [],
   "source": [
    "data['reviews_text_new'] = data['After_lemmatization'].copy()"
   ]
  },
  {
   "cell_type": "code",
   "execution_count": 66,
   "id": "f4b095d6",
   "metadata": {},
   "outputs": [
    {
     "name": "stderr",
     "output_type": "stream",
     "text": [
      "C:\\ANACONDADS\\envs\\tf\\lib\\site-packages\\sklearn\\utils\\deprecation.py:87: FutureWarning: Function get_feature_names is deprecated; get_feature_names is deprecated in 1.0 and will be removed in 1.2. Please use get_feature_names_out instead.\n",
      "  warnings.warn(msg, category=FutureWarning)\n"
     ]
    },
    {
     "data": {
      "text/html": [
       "<div>\n",
       "<style scoped>\n",
       "    .dataframe tbody tr th:only-of-type {\n",
       "        vertical-align: middle;\n",
       "    }\n",
       "\n",
       "    .dataframe tbody tr th {\n",
       "        vertical-align: top;\n",
       "    }\n",
       "\n",
       "    .dataframe thead th {\n",
       "        text-align: right;\n",
       "    }\n",
       "</style>\n",
       "<table border=\"1\" class=\"dataframe\">\n",
       "  <thead>\n",
       "    <tr style=\"text-align: right;\">\n",
       "      <th></th>\n",
       "      <th>000engaged</th>\n",
       "      <th>000lbsam</th>\n",
       "      <th>000mgday</th>\n",
       "      <th>000month</th>\n",
       "      <th>000s</th>\n",
       "      <th>0039using</th>\n",
       "      <th>00am</th>\n",
       "      <th>00clock</th>\n",
       "      <th>00continue</th>\n",
       "      <th>00have</th>\n",
       "      <th>...</th>\n",
       "      <th>zypreza</th>\n",
       "      <th>zyrtec</th>\n",
       "      <th>zyrtecday</th>\n",
       "      <th>zyrtecdidn</th>\n",
       "      <th>zyrtecforfew</th>\n",
       "      <th>zyrtechave</th>\n",
       "      <th>zyrteci</th>\n",
       "      <th>zytiga</th>\n",
       "      <th>zyvox</th>\n",
       "      <th>zzz</th>\n",
       "    </tr>\n",
       "  </thead>\n",
       "  <tbody>\n",
       "    <tr>\n",
       "      <th>0</th>\n",
       "      <td>0</td>\n",
       "      <td>0</td>\n",
       "      <td>0</td>\n",
       "      <td>0</td>\n",
       "      <td>0</td>\n",
       "      <td>0</td>\n",
       "      <td>0</td>\n",
       "      <td>0</td>\n",
       "      <td>0</td>\n",
       "      <td>0</td>\n",
       "      <td>...</td>\n",
       "      <td>0</td>\n",
       "      <td>0</td>\n",
       "      <td>0</td>\n",
       "      <td>0</td>\n",
       "      <td>0</td>\n",
       "      <td>0</td>\n",
       "      <td>0</td>\n",
       "      <td>0</td>\n",
       "      <td>0</td>\n",
       "      <td>0</td>\n",
       "    </tr>\n",
       "    <tr>\n",
       "      <th>1</th>\n",
       "      <td>0</td>\n",
       "      <td>0</td>\n",
       "      <td>0</td>\n",
       "      <td>0</td>\n",
       "      <td>0</td>\n",
       "      <td>0</td>\n",
       "      <td>0</td>\n",
       "      <td>0</td>\n",
       "      <td>0</td>\n",
       "      <td>0</td>\n",
       "      <td>...</td>\n",
       "      <td>0</td>\n",
       "      <td>0</td>\n",
       "      <td>0</td>\n",
       "      <td>0</td>\n",
       "      <td>0</td>\n",
       "      <td>0</td>\n",
       "      <td>0</td>\n",
       "      <td>0</td>\n",
       "      <td>0</td>\n",
       "      <td>0</td>\n",
       "    </tr>\n",
       "    <tr>\n",
       "      <th>2</th>\n",
       "      <td>0</td>\n",
       "      <td>0</td>\n",
       "      <td>0</td>\n",
       "      <td>0</td>\n",
       "      <td>0</td>\n",
       "      <td>0</td>\n",
       "      <td>0</td>\n",
       "      <td>0</td>\n",
       "      <td>0</td>\n",
       "      <td>0</td>\n",
       "      <td>...</td>\n",
       "      <td>0</td>\n",
       "      <td>0</td>\n",
       "      <td>0</td>\n",
       "      <td>0</td>\n",
       "      <td>0</td>\n",
       "      <td>0</td>\n",
       "      <td>0</td>\n",
       "      <td>0</td>\n",
       "      <td>0</td>\n",
       "      <td>0</td>\n",
       "    </tr>\n",
       "  </tbody>\n",
       "</table>\n",
       "<p>3 rows × 47201 columns</p>\n",
       "</div>"
      ],
      "text/plain": [
       "   000engaged  000lbsam  000mgday  000month  000s  0039using  00am  00clock  \\\n",
       "0           0         0         0         0     0          0     0        0   \n",
       "1           0         0         0         0     0          0     0        0   \n",
       "2           0         0         0         0     0          0     0        0   \n",
       "\n",
       "   00continue  00have  ...  zypreza  zyrtec  zyrtecday  zyrtecdidn  \\\n",
       "0           0       0  ...        0       0          0           0   \n",
       "1           0       0  ...        0       0          0           0   \n",
       "2           0       0  ...        0       0          0           0   \n",
       "\n",
       "   zyrtecforfew  zyrtechave  zyrteci  zytiga  zyvox  zzz  \n",
       "0             0           0        0       0      0    0  \n",
       "1             0           0        0       0      0    0  \n",
       "2             0           0        0       0      0    0  \n",
       "\n",
       "[3 rows x 47201 columns]"
      ]
     },
     "execution_count": 66,
     "metadata": {},
     "output_type": "execute_result"
    }
   ],
   "source": [
    "# The following code creates a word-document matrix.\n",
    "# from sklearn.feature_extraction.text import CountVectorizer\n",
    "\n",
    "# vec = CountVectorizer()\n",
    "# X = vec.fit_transform(data['reviews_text_new'])\n",
    "# df = pd.DataFrame(X.toarray(), columns = vec.get_feature_names())\n",
    "# df.head(3)"
   ]
  },
  {
   "cell_type": "raw",
   "id": "8f646178",
   "metadata": {},
   "source": []
  },
  {
   "cell_type": "code",
   "execution_count": 79,
   "id": "392dd3a1",
   "metadata": {},
   "outputs": [
    {
     "name": "stderr",
     "output_type": "stream",
     "text": [
      "C:\\ANACONDADS\\envs\\tf\\lib\\site-packages\\sklearn\\utils\\deprecation.py:87: FutureWarning: Function get_feature_names is deprecated; get_feature_names is deprecated in 1.0 and will be removed in 1.2. Please use get_feature_names_out instead.\n",
      "  warnings.warn(msg, category=FutureWarning)\n"
     ]
    },
    {
     "name": "stdout",
     "output_type": "stream",
     "text": [
      "   000engaged  000lbsam  000mgday  000month  000s  0039using  00am  00clock  \\\n",
      "0           0         0         0         0     0          0     0        0   \n",
      "1           0         0         0         0     0          0     0        0   \n",
      "2           0         0         0         0     0          0     0        0   \n",
      "\n",
      "   00continue  00have  ...  zypreza  zyrtec  zyrtecday  zyrtecdidn  \\\n",
      "0           0       0  ...        0       0          0           0   \n",
      "1           0       0  ...        0       0          0           0   \n",
      "2           0       0  ...        0       0          0           0   \n",
      "\n",
      "   zyrtecforfew  zyrtechave  zyrteci  zytiga  zyvox  zzz  \n",
      "0             0           0        0       0      0    0  \n",
      "1             0           0        0       0      0    0  \n",
      "2             0           0        0       0      0    0  \n",
      "\n",
      "[3 rows x 47201 columns]\n"
     ]
    }
   ],
   "source": [
    "vect = CountVectorizer()\n",
    "vect.fit(data['reviews_text_new'])\n",
    "vect.get_feature_names()\n",
    "# transform training data into a 'document-term matrix'\n",
    "simple_train_dtm = vect.transform(data['reviews_text_new'])\n",
    "df = pd.DataFrame(simple_train_dtm.toarray(), columns = vec.get_feature_names())\n",
    "print(df.head(3))"
   ]
  },
  {
   "cell_type": "code",
   "execution_count": 80,
   "id": "de296038",
   "metadata": {},
   "outputs": [],
   "source": [
    "### Creating a python object of the class CountVectorizer\n",
    "from sklearn.feature_extraction.text import CountVectorizer\n",
    "bow_counts = CountVectorizer(tokenizer= word_tokenize, # type of tokenization\n",
    "                             ngram_range=(1,3)) # number of n-grams\n",
    "\n",
    "bow_data = bow_counts.fit_transform(data['reviews_text_new'])"
   ]
  },
  {
   "cell_type": "code",
   "execution_count": 81,
   "id": "04fca49b",
   "metadata": {},
   "outputs": [],
   "source": [
    "from sklearn.model_selection import train_test_split\n",
    "X_train_bow, X_test_bow, y_train_bow, y_test_bow = train_test_split(bow_data, # Features\n",
    "                                                                    data['Overall Sentiment'], # Target variable\n",
    "                                                                    test_size = 0.2, # 20% test size\n",
    "                                                                    random_state = 0) # random"
   ]
  },
  {
   "cell_type": "code",
   "execution_count": 82,
   "id": "cd1a0404",
   "metadata": {},
   "outputs": [],
   "source": [
    "import sklearn.metrics as metrics\n",
    "# import sklearn.metrics import accuracy_score "
   ]
  },
  {
   "cell_type": "code",
   "execution_count": 83,
   "id": "253d46e3",
   "metadata": {},
   "outputs": [
    {
     "data": {
      "text/plain": [
       "0.8085"
      ]
     },
     "execution_count": 83,
     "metadata": {},
     "output_type": "execute_result"
    }
   ],
   "source": [
    "from sklearn.linear_model import LogisticRegression\n",
    "### Training the model \n",
    "lr_model_all = LogisticRegression() # Logistic regression\n",
    "lr_model_all.fit(X_train_bow, y_train_bow) # Fitting a logistic regression model\n",
    "\n",
    "## Predicting the output\n",
    "test_pred_lr_all = lr_model_all.predict(X_test_bow) # Class prediction\n",
    "\n",
    "\n",
    "## Calculate key performance metrics\n",
    "accuracy = metrics.accuracy_score(y_test_bow, test_pred_lr_all)\n",
    "accuracy \n",
    "# from sklearn.metrics import classification_report\n",
    "# # Print a classification report\n",
    "# print(classification_report(y_test_bow,test_pred_lr_all))"
   ]
  },
  {
   "cell_type": "code",
   "execution_count": 86,
   "id": "23419b39",
   "metadata": {},
   "outputs": [
    {
     "data": {
      "text/plain": [
       "array(['Negative', 'Negative', 'Negative', ..., 'Negative', 'Positive',\n",
       "       'Positive'], dtype=object)"
      ]
     },
     "execution_count": 86,
     "metadata": {},
     "output_type": "execute_result"
    }
   ],
   "source": [
    "test_pred_lr_all"
   ]
  },
  {
   "cell_type": "code",
   "execution_count": 72,
   "id": "20512ced",
   "metadata": {},
   "outputs": [],
   "source": [
    "# from sklearn.feature_extraction.text import TfidfVectorizer\n",
    "# noise_words = []\n",
    "# ### Creating a python object of the class CountVectorizer\n",
    "# tfidf_counts = TfidfVectorizer(tokenizer= word_tokenize, # type of tokenization\n",
    "#                                stop_words=noise_words, # List of stopwords\n",
    "#                                ngram_range=(1,1)) # number of n-grams\n",
    "\n",
    "# tfidf_data = tfidf_counts.fit_transform(data['reviews_text_new'])"
   ]
  },
  {
   "cell_type": "code",
   "execution_count": 73,
   "id": "0331d816",
   "metadata": {},
   "outputs": [],
   "source": [
    "# X_train_tfidf, X_test_tfidf, y_train_tfidf, y_test_tfidf = train_test_split(tfidf_data,\n",
    "#                                                                             data['Overall Sentiment'],\n",
    "#                                                                             test_size = 0.2,\n",
    "#                                                                             random_state = 0)"
   ]
  },
  {
   "cell_type": "code",
   "execution_count": 74,
   "id": "4ac9f58f",
   "metadata": {},
   "outputs": [
    {
     "name": "stderr",
     "output_type": "stream",
     "text": [
      "C:\\ANACONDADS\\envs\\tf\\lib\\site-packages\\sklearn\\linear_model\\_logistic.py:814: ConvergenceWarning: lbfgs failed to converge (status=1):\n",
      "STOP: TOTAL NO. of ITERATIONS REACHED LIMIT.\n",
      "\n",
      "Increase the number of iterations (max_iter) or scale the data as shown in:\n",
      "    https://scikit-learn.org/stable/modules/preprocessing.html\n",
      "Please also refer to the documentation for alternative solver options:\n",
      "    https://scikit-learn.org/stable/modules/linear_model.html#logistic-regression\n",
      "  n_iter_i = _check_optimize_result(\n"
     ]
    },
    {
     "data": {
      "text/plain": [
       "0.8075"
      ]
     },
     "execution_count": 74,
     "metadata": {},
     "output_type": "execute_result"
    }
   ],
   "source": [
    "### Setting up the model class\n",
    "# lr_model_tf_idf = LogisticRegression()\n",
    "\n",
    "# ## Training the model \n",
    "# lr_model_tf_idf.fit(X_train_tfidf,y_train_tfidf)\n",
    "\n",
    "# ## Prediciting the results\n",
    "# test_pred_lr_all = lr_model_tf_idf.predict(X_test_tfidf)\n",
    "\n",
    "# ## Calculate key performance metrics\n",
    "\n",
    "# accuracy = metrics.accuracy_score(y_test_tfidf, test_pred_lr_all)\n",
    "# accuracy \n",
    "# # Print a classification report\n",
    "# # print(classification_report(y_test_tfidf,test_pred_lr_all))"
   ]
  },
  {
   "cell_type": "code",
   "execution_count": 75,
   "id": "9fc3417e",
   "metadata": {},
   "outputs": [
    {
     "data": {
      "text/plain": [
       "array(['Negative', 'Negative', 'Negative', ..., 'Negative', 'Positive',\n",
       "       'Positive'], dtype=object)"
      ]
     },
     "execution_count": 75,
     "metadata": {},
     "output_type": "execute_result"
    }
   ],
   "source": [
    "# test_pred_lr_all"
   ]
  }
 ],
 "metadata": {
  "kernelspec": {
   "display_name": "Python 3 (ipykernel)",
   "language": "python",
   "name": "python3"
  },
  "language_info": {
   "codemirror_mode": {
    "name": "ipython",
    "version": 3
   },
   "file_extension": ".py",
   "mimetype": "text/x-python",
   "name": "python",
   "nbconvert_exporter": "python",
   "pygments_lexer": "ipython3",
   "version": "3.9.7"
  }
 },
 "nbformat": 4,
 "nbformat_minor": 5
}
